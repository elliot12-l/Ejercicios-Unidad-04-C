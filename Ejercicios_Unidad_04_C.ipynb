{
  "nbformat": 4,
  "nbformat_minor": 0,
  "metadata": {
    "colab": {
      "provenance": [],
      "authorship_tag": "ABX9TyNhvbbn6xQia2hBOn+X8aNG",
      "include_colab_link": true
    },
    "kernelspec": {
      "name": "python3",
      "display_name": "Python 3"
    },
    "language_info": {
      "name": "python"
    }
  },
  "cells": [
    {
      "cell_type": "markdown",
      "metadata": {
        "id": "view-in-github",
        "colab_type": "text"
      },
      "source": [
        "<a href=\"https://colab.research.google.com/github/elliot12-l/Ejercicios-Unidad-04-C/blob/main/Ejercicios_Unidad_04_C.ipynb\" target=\"_parent\"><img src=\"https://colab.research.google.com/assets/colab-badge.svg\" alt=\"Open In Colab\"/></a>"
      ]
    },
    {
      "cell_type": "code",
      "execution_count": 1,
      "metadata": {
        "colab": {
          "base_uri": "https://localhost:8080/"
        },
        "id": "PtRtntyFyRY1",
        "outputId": "41b824d2-c8df-4beb-87bd-99ae177ca968"
      },
      "outputs": [
        {
          "output_type": "stream",
          "name": "stdout",
          "text": [
            "Solución para el sistema a: [-3.  3.  1.]\n",
            "Solución para el sistema b: [-4.  4. -1.]\n"
          ]
        }
      ],
      "source": [
        "## EJERCICIO 5.a.b\n",
        "import numpy as np\n",
        "\n",
        "# Función para la sustitución hacia adelante\n",
        "def forward_substitution(L, b):\n",
        "    n = L.shape[0]\n",
        "    y = np.zeros_like(b, dtype=np.float32)\n",
        "    for i in range(n):\n",
        "        y[i] = b[i] - np.dot(L[i, :i], y[:i])\n",
        "    return y\n",
        "\n",
        "# Función para la sustitución hacia atrás\n",
        "def backward_substitution(U, y):\n",
        "    n = U.shape[0]\n",
        "    x = np.zeros_like(y, dtype=np.float32)\n",
        "    for i in range(n-1, -1, -1):\n",
        "        x[i] = (y[i] - np.dot(U[i, i+1:], x[i+1:])) / U[i, i]\n",
        "    return x\n",
        "\n",
        "# Datos del sistema a\n",
        "L_a = np.array([[1, 0, 0],\n",
        "                [2, 1, 0],\n",
        "                [-1, 0, 1]], dtype=np.float32)\n",
        "\n",
        "U_a = np.array([[2, 3, -1],\n",
        "                [0, -2, 1],\n",
        "                [0, 0, 3]], dtype=np.float32)\n",
        "\n",
        "b_a = np.array([2, -1, 1], dtype=np.float32)\n",
        "\n",
        "# Resolver el sistema a\n",
        "y_a = forward_substitution(L_a, b_a)\n",
        "sol_a = backward_substitution(U_a, y_a)\n",
        "print(\"Solución para el sistema a:\", sol_a)\n",
        "\n",
        "# Datos del sistema b\n",
        "L_b = np.array([[2, 0, 0],\n",
        "                [-1, 1, 0],\n",
        "                [3, 2, -1]], dtype=np.float32)\n",
        "\n",
        "U_b = np.array([[1, 1, 1],\n",
        "                [0, 1, 2],\n",
        "                [0, 0, 1]], dtype=np.float32)\n",
        "\n",
        "b_b = np.array([-1, 3, 0], dtype=np.float32)\n",
        "\n",
        "# Resolver el sistema b\n",
        "y_b = forward_substitution(L_b, b_b)\n",
        "sol_b = backward_substitution(U_b, y_b)\n",
        "print(\"Solución para el sistema b:\", sol_b)\n"
      ]
    }
  ]
}